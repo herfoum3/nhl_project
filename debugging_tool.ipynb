{
 "cells": [
  {
   "cell_type": "code",
   "execution_count": 183,
   "id": "ea8f4a6f-fb88-4307-836e-e3862e846559",
   "metadata": {},
   "outputs": [],
   "source": [
    "from ipywidgets import interact, interactive, fixed, interact_manual\n",
    "import ipywidgets as widgets\n",
    "from IPython.display import clear_output\n",
    "import json\n",
    "import os\n",
    "import pandas as pd\n"
   ]
  },
  {
   "cell_type": "code",
   "execution_count": 191,
   "id": "a1e567ed-1a9b-491d-9a76-d9056de82914",
   "metadata": {},
   "outputs": [],
   "source": [
    "def pading(n):\n",
    "    if n < 10:\n",
    "        return '000' + str(n)\n",
    "    elif n < 100:\n",
    "        return '00' + str(n)\n",
    "    else:\n",
    "        return '0' + str(n)\n",
    "        "
   ]
  },
  {
   "cell_type": "code",
   "execution_count": 185,
   "id": "d2fa7a87-d1ef-4ee0-bc96-b93517fdda25",
   "metadata": {},
   "outputs": [],
   "source": [
    "def get_game(season, game_type, game_id, play_id):\n",
    "    \n",
    "    year=season.split('-')[0]\n",
    "    file= f'{year}{game_type}{pading(game_id)}.json'\n",
    "\n",
    "    #entries = os.listdir(\"raw\")\n",
    "    #entries = [e for e in entries if e.startswith(id_start)]\n",
    "\n",
    "    if not os.path.exists('raw' + '/' +file): \n",
    "        clear_output()\n",
    "        return\n",
    "        \n",
    "    with open('raw' + '/' +file , 'r') as game_file:               \n",
    "            game_json = json.load(game_file)\n",
    "    \n",
    "    gameData = game_json['gameData']\n",
    "    #print(gameData)\n",
    "    print(gameData[\"datetime\"][\"dateTime\"])\n",
    "    print('Game ID:', game_id, ';', gameData[\"teams\"][\"home\"][\"triCode\"],'(home) vs',gameData[\"teams\"][\"away\"][\"triCode\"],'(away)')\n",
    "\n",
    "    data = {\n",
    "    \"Home\":[],\n",
    "    \"Away\":[],\n",
    "    }\n",
    "\n",
    "    liveData = game_json['liveData']\n",
    "    data[\"Home\"].append(gameData[\"teams\"][\"home\"][\"triCode\"])\n",
    "    data[\"Away\"].append(gameData[\"teams\"][\"away\"][\"triCode\"])\n",
    "\n",
    "    data[\"Home\"].append(liveData[\"boxscore\"][\"teams\"][\"home\"][\"teamStats\"][\"teamSkaterStats\"][\"goals\"])\n",
    "    data[\"Away\"].append(liveData[\"boxscore\"][\"teams\"][\"away\"][\"teamStats\"][\"teamSkaterStats\"][\"goals\"])\n",
    "   \n",
    "    data[\"Home\"].append(liveData[\"boxscore\"][\"teams\"][\"home\"][\"teamStats\"][\"teamSkaterStats\"][\"shots\"])\n",
    "    data[\"Away\"].append(liveData[\"boxscore\"][\"teams\"][\"away\"][\"teamStats\"][\"teamSkaterStats\"][\"shots\"])\n",
    "  \n",
    "\n",
    "    data[\"Home\"].append(liveData[\"linescore\"][\"shootoutInfo\"][\"home\"][\"scores\"])\n",
    "    data[\"Away\"].append(liveData[\"linescore\"][\"shootoutInfo\"][\"away\"][\"scores\"])\n",
    "\n",
    "\n",
    "    data[\"Home\"].append(liveData[\"linescore\"][\"shootoutInfo\"][\"home\"][\"attempts\"])\n",
    "    data[\"Away\"].append(liveData[\"linescore\"][\"shootoutInfo\"][\"away\"][\"attempts\"])\n",
    "\n",
    "    df = pd.DataFrame(data, index=['Teams', 'Goals', 'SoG', 'SO Goals', 'SO Attempts' ])\n",
    "\n",
    "    print('\\n')\n",
    "    print(df)\n",
    "    print('\\n\\n')\n",
    "\n",
    "    # display the image and add data on it with the coordinates\n",
    "    \n",
    "    all_plays = liveData['plays']['allPlays']\n",
    "    for p in all_plays:\n",
    "        eventIdx = p['about']['eventIdx']\n",
    "        if eventIdx == play_id:\n",
    "            print(json.dumps(p,indent=2))\n",
    "            break\n",
    "    #return game_json\n",
    "    "
   ]
  },
  {
   "cell_type": "code",
   "execution_count": 190,
   "id": "35e6e027-d64f-41f1-9956-b7239b97983e",
   "metadata": {},
   "outputs": [
    {
     "data": {
      "application/vnd.jupyter.widget-view+json": {
       "model_id": "6707d56d77a14a1181f61b5410c7157c",
       "version_major": 2,
       "version_minor": 0
      },
      "text/plain": [
       "interactive(children=(Dropdown(description='Select a season', options=('2016-2017', '2017-2018', '2018-2019', …"
      ]
     },
     "metadata": {},
     "output_type": "display_data"
    },
    {
     "data": {
      "text/plain": [
       "<function __main__.get_game(season, game_type, game_id, play_id)>"
      ]
     },
     "execution_count": 190,
     "metadata": {},
     "output_type": "execute_result"
    }
   ],
   "source": [
    "interact(\n",
    "    get_game,\n",
    "    \n",
    "    season = widgets.Dropdown(\n",
    "        options=['2016-2017','2017-2018', '2018-2019', '2019-2020', '2020-2021'],\n",
    "        value='2016-2017',\n",
    "        description='Select a season'\n",
    "    ),\n",
    "    game_type=widgets.ToggleButtons(\n",
    "        options = ['02', '03'],\n",
    "        value='02',\n",
    "        description='Select game type'\n",
    "    ),\n",
    "    game_id = widgets.IntSlider(min=1, max=999, step=1, value=1),\n",
    "    play_id = widgets.IntSlider(min=1, max=300, step=1, value=1)\n",
    ")"
   ]
  },
  {
   "cell_type": "code",
   "execution_count": null,
   "id": "76a7dd62-5c28-4078-b11e-ae2a3647beb7",
   "metadata": {},
   "outputs": [],
   "source": []
  }
 ],
 "metadata": {
  "kernelspec": {
   "display_name": "Python 3 (ipykernel)",
   "language": "python",
   "name": "python3"
  },
  "language_info": {
   "codemirror_mode": {
    "name": "ipython",
    "version": 3
   },
   "file_extension": ".py",
   "mimetype": "text/x-python",
   "name": "python",
   "nbconvert_exporter": "python",
   "pygments_lexer": "ipython3",
   "version": "3.10.12"
  }
 },
 "nbformat": 4,
 "nbformat_minor": 5
}
